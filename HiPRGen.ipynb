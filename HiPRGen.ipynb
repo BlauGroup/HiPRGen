{
 "cells": [
  {
   "cell_type": "code",
   "execution_count": 1,
   "id": "fe9e7227-b59a-4a60-8c8f-10166a88de57",
   "metadata": {},
   "outputs": [
    {
     "name": "stdout",
     "output_type": "stream",
     "text": [
      "sup!!!\n"
     ]
    }
   ],
   "source": [
    "print(\"sup!!!\")"
   ]
  },
  {
   "cell_type": "code",
   "execution_count": null,
   "id": "121b6ca7-a24c-4113-9048-d2821bbe9143",
   "metadata": {},
   "outputs": [],
   "source": []
  }
 ],
 "metadata": {
  "kernelspec": {
   "display_name": "Python 3",
   "language": "python",
   "name": "python3"
  },
  "language_info": {
   "codemirror_mode": {
    "name": "ipython",
    "version": 3
   },
   "file_extension": ".py",
   "mimetype": "text/x-python",
   "name": "python",
   "nbconvert_exporter": "python",
   "pygments_lexer": "ipython3",
   "version": "3.8.11"
  }
 },
 "nbformat": 4,
 "nbformat_minor": 5
}
